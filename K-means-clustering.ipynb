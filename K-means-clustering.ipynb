{
  "nbformat": 4,
  "nbformat_minor": 0,
  "metadata": {
    "colab": {
      "provenance": [],
      "include_colab_link": true
    },
    "kernelspec": {
      "name": "python3",
      "display_name": "Python 3"
    },
    "language_info": {
      "name": "python"
    }
  },
  "cells": [
    {
      "cell_type": "markdown",
      "metadata": {
        "id": "view-in-github",
        "colab_type": "text"
      },
      "source": [
        "<a href=\"https://colab.research.google.com/github/HKRcodes/AML-331-Python-and-Machine-Learning-Lab/blob/main/K-means-clustering.ipynb\" target=\"_parent\"><img src=\"https://colab.research.google.com/assets/colab-badge.svg\" alt=\"Open In Colab\"/></a>"
      ]
    },
    {
      "cell_type": "code",
      "source": [
        "from sklearn.cluster import KMeans\n",
        "import pandas as pd\n",
        "import matplotlib.pyplot as plt\n",
        "\n",
        "# Load the student data into a pandas DataFrame\n",
        "data = pd.read_csv('/content/sample_data/performance.csv')\n",
        "\n",
        "# Extract the relevant columns for clustering (e.g. grades, attendance, etc.)\n",
        "X = data[[\"GPA\", \"ATTENDANCE\"]]\n",
        "\n",
        "# Create an instance of the KMeans clustering model\n",
        "kmeans = KMeans(n_clusters=3, random_state=0)\n",
        "\n",
        "# Fit the model to the data\n",
        "kmeans.fit(X)\n",
        "\n",
        "# Assign the cluster labels to the student data\n",
        "data[\"cluster\"] = kmeans.labels_\n",
        "\n",
        "# Print the cluster assignments for each student\n",
        "print(data)\n",
        "x=data[\"GPA\"]\n",
        "y=data[\"ATTENDANCE\"]\n",
        "z=data[\"cluster\"]\n",
        "for i in range(29):\n",
        "  if z[i]==0:\n",
        "    plt.scatter(x[i],y[i],color=\"green\")\n",
        "  if z[i]==1:\n",
        "    plt.scatter(x[i],y[i],color=\"red\")\n",
        "  if z[i]==2:\n",
        "    plt.scatter(x[i],y[i],color=\"black\")\n"
      ],
      "metadata": {
        "colab": {
          "base_uri": "https://localhost:8080/",
          "height": 786
        },
        "id": "o1QGbImhvo8G",
        "outputId": "d74197f7-8023-4a1f-ec42-02b13954a1e3"
      },
      "execution_count": 43,
      "outputs": [
        {
          "output_type": "stream",
          "name": "stdout",
          "text": [
            "    ATTENDANCE  GPA  cluster\n",
            "0           99  8.9        1\n",
            "1           92  9.8        1\n",
            "2           87  9.0        1\n",
            "3           54  6.0        0\n",
            "4           67  7.2        2\n",
            "5           80  7.0        2\n",
            "6           93  8.8        1\n",
            "7           75  6.7        2\n",
            "8           88  7.4        1\n",
            "9           48  5.4        0\n",
            "10          43  6.2        0\n",
            "11          79  9.5        2\n",
            "12          62  6.9        0\n",
            "13          88  8.9        1\n",
            "14          93  8.5        1\n",
            "15          68  7.0        2\n",
            "16          69  6.3        2\n",
            "17          73  8.3        2\n",
            "18          96  8.2        1\n",
            "19          98  9.8        1\n",
            "20          77  8.4        2\n",
            "21          53  7.2        0\n",
            "22          76  8.6        2\n",
            "23          82  9.2        2\n",
            "24          71  7.2        2\n",
            "25          43  5.7        0\n",
            "26          55  5.2        0\n",
            "27          59  6.5        0\n",
            "28          49  5.2        0\n"
          ]
        },
        {
          "output_type": "display_data",
          "data": {
            "text/plain": [
              "<Figure size 432x288 with 1 Axes>"
            ],
            "image/png": "[encoded data removed]"
          },
          "metadata": {
            "needs_background": "light"
          }
        }
      ]
    }
  ]
}