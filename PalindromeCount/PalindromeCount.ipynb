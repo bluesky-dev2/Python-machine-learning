{
  "nbformat": 4,
  "nbformat_minor": 0,
  "metadata": {
    "colab": {
      "provenance": [],
      "authorship_tag": "ABX9TyPA4tzjh9vwVRlRARQbpp/v",
      "include_colab_link": true
    },
    "kernelspec": {
      "name": "python3",
      "display_name": "Python 3"
    },
    "language_info": {
      "name": "python"
    }
  },
  "cells": [
    {
      "cell_type": "markdown",
      "metadata": {
        "id": "view-in-github",
        "colab_type": "text"
      },
      "source": [
        "<a href=\"https://colab.research.google.com/github/HKRcodes/AML-331-Python-and-Machine-Learning-Lab/blob/main/PalindromeCount/PalindromeCount.ipynb\" target=\"_parent\"><img src=\"https://colab.research.google.com/assets/colab-badge.svg\" alt=\"Open In Colab\"/></a>"
      ]
    },
    {
      "cell_type": "code",
      "execution_count": 2,
      "metadata": {
        "colab": {
          "base_uri": "https://localhost:8080/"
        },
        "id": "E90GFwwIY4Bp",
        "outputId": "18f1f75e-7424-4e89-f5bd-15bb5ee91312"
      },
      "outputs": [
        {
          "output_type": "stream",
          "name": "stdout",
          "text": [
            "Palindrome  1 : malayalam\n",
            "Palindrome  2 : amma\n",
            "Palindrome  3 : mom\n",
            "TOTAL PALINDROMES :  3\n"
          ]
        }
      ],
      "source": [
        "file=open(\"/content/palindrome.txt\")\n",
        "c=0\n",
        "for lines in file:\n",
        "    for w in lines.lower().split():\n",
        "        if w==w[::-1]:\n",
        "            if len(w)!=1:\n",
        "                print(\"Palindrome \",c+1,\":\",w)\n",
        "                c+=1\n",
        "print(\"TOTAL PALINDROMES : \",c)"
      ]
    }
  ]
}