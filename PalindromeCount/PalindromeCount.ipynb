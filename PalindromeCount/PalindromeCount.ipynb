{
  "nbformat": 4,
  "nbformat_minor": 0,
  "metadata": {
    "colab": {
      "provenance": [],
      "collapsed_sections": [],
      "authorship_tag": "ABX9TyMj7jN7pKHHE/Fttpu2yWkZ",
      "include_colab_link": true
    },
    "kernelspec": {
      "name": "python3",
      "display_name": "Python 3"
    },
    "language_info": {
      "name": "python"
    }
  },
  "cells": [
    {
      "cell_type": "markdown",
      "metadata": {
        "id": "view-in-github",
        "colab_type": "text"
      },
      "source": [
        "<a href=\"https://colab.research.google.com/github/GOVINDFROMINDIA/AML-331-Python-and-Machine-Learning-Lab/blob/main/PalindromeCount/PalindromeCount.ipynb\" target=\"_parent\"><img src=\"https://colab.research.google.com/assets/colab-badge.svg\" alt=\"Open In Colab\"/></a>"
      ]
    },
    {
      "cell_type": "code",
      "execution_count": 18,
      "metadata": {
        "colab": {
          "base_uri": "https://localhost:8080/"
        },
        "id": "W0_Gg33jnHUQ",
        "outputId": "4918a2fa-d57c-4ef3-f098-d1be3bdf6e14"
      },
      "outputs": [
        {
          "output_type": "stream",
          "name": "stdout",
          "text": [
            "TOTAL PALINDROMESS : 3\n"
          ]
        }
      ],
      "source": [
        "file=open(\"/content/pal.txt\")\n",
        "c=0\n",
        "for lines in file:\n",
        "  for w in lines.lower().split():\n",
        "      if w == w[::-1]:\n",
        "        c+=1\n",
        "print(\"TOTAL PALINDROMESS :\",c)"
      ]
    }
  ]
}