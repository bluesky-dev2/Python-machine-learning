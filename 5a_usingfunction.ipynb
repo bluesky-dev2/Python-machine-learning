{
  "nbformat": 4,
  "nbformat_minor": 0,
  "metadata": {
    "colab": {
      "provenance": [],
      "authorship_tag": "ABX9TyOizL8XNURfopYeVbENf2/B",
      "include_colab_link": true
    },
    "kernelspec": {
      "name": "python3",
      "display_name": "Python 3"
    },
    "language_info": {
      "name": "python"
    }
  },
  "cells": [
    {
      "cell_type": "markdown",
      "metadata": {
        "id": "view-in-github",
        "colab_type": "text"
      },
      "source": [
        "<a href=\"https://colab.research.google.com/github/akhilamoh/AML-331-Python-and-Machine-Learning-Lab/blob/main/5a_usingfunction.ipynb\" target=\"_parent\"><img src=\"https://colab.research.google.com/assets/colab-badge.svg\" alt=\"Open In Colab\"/></a>"
      ]
    },
    {
      "cell_type": "code",
      "execution_count": 2,
      "metadata": {
        "colab": {
          "base_uri": "https://localhost:8080/"
        },
        "id": "pmf0e1cbBfLk",
        "outputId": "85cf0a6e-eee4-4d77-affa-5dd25f62bfa4"
      },
      "outputs": [
        {
          "output_type": "stream",
          "name": "stdout",
          "text": [
            "for matrix A\n",
            "enter the no of rows2\n",
            "enter the no of column2\n",
            "for matrix B\n",
            "enter the no of rows2\n",
            "enter the no of column2\n",
            "------multiplication possible------\n",
            "enter elements for matrix A\n",
            "5\n",
            "1\n",
            "4\n",
            "0\n",
            "[[5 1]\n",
            " [4 0]]\n",
            "enter elements for matrix B\n",
            "4\n",
            "5\n",
            "6\n",
            "0\n",
            "[[4 5]\n",
            " [6 0]]\n",
            "[[20  5]\n",
            " [24  0]]\n"
          ]
        }
      ],
      "source": [
        "import numpy as np\n",
        "a=list()\n",
        "b=list()\n",
        "print(\"for matrix A\")\n",
        "n=int(input(\"enter the no of rows\"))\n",
        "m=int(input(\"enter the no of column\"))\n",
        "print(\"for matrix B\")\n",
        "p=int(input(\"enter the no of rows\"))\n",
        "q=int(input(\"enter the no of column\"))\n",
        "if m==p:\n",
        "  print(\"------multiplication possible------\")\n",
        "  print(\"enter elements for matrix A\")\n",
        "  for i in range(n):\n",
        "    for i in range(m):\n",
        "      a.append(int(input()))\n",
        "  x=np.array(a)\n",
        "  y=x.reshape(n,m)\n",
        "  print (y)\n",
        "  print(\"enter elements for matrix B\")\n",
        "  for i in range(p):\n",
        "    for i in range(q):\n",
        "      b.append(int(input()))\n",
        "  u=np.array(b)\n",
        "  v=u.reshape(p,q)\n",
        "  print (v)\n",
        "  print(np.multiply(y,v))\n",
        "else:\n",
        "  print(\"---not possible-----2\")"
      ]
    }
  ]
}