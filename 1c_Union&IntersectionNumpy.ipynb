{
  "nbformat": 4,
  "nbformat_minor": 0,
  "metadata": {
    "colab": {
      "provenance": [],
      "collapsed_sections": [],
      "authorship_tag": "ABX9TyPX/nnGMElLPIqNvqbkH9kt",
      "include_colab_link": true
    },
    "kernelspec": {
      "name": "python3",
      "display_name": "Python 3"
    },
    "language_info": {
      "name": "python"
    }
  },
  "cells": [
    {
      "cell_type": "markdown",
      "metadata": {
        "id": "view-in-github",
        "colab_type": "text"
      },
      "source": [
        "<a href=\"https://colab.research.google.com/github/GOVINDFROMINDIA/AML-331-Python-and-Machine-Learning-Lab/blob/main/1c_Union%26IntersectionNumpy.ipynb\" target=\"_parent\"><img src=\"https://colab.research.google.com/assets/colab-badge.svg\" alt=\"Open In Colab\"/></a>"
      ]
    },
    {
      "cell_type": "code",
      "execution_count": 2,
      "metadata": {
        "id": "96n16XU_s8V_",
        "colab": {
          "base_uri": "https://localhost:8080/"
        },
        "outputId": "b6de8f71-4378-4ba8-cc5e-5c91c21729f8"
      },
      "outputs": [
        {
          "output_type": "stream",
          "name": "stdout",
          "text": [
            "Enter Size of A3\n",
            "4\n",
            "5\n",
            "6\n",
            "[4 5 6]\n",
            "Enter Size of A5\n",
            "3\n",
            "2\n",
            "4\n",
            "5\n",
            "8\n",
            "[3 2 4 5 8]\n",
            "intersection : [4 5]\n",
            "union : [2 3 4 5 6 8]\n"
          ]
        }
      ],
      "source": [
        "import numpy as np\n",
        "a=list()\n",
        "b=list()\n",
        "n=int(input(\"Enter Size of A\"))\n",
        "for i in range(0,n):\n",
        "  a.append(int(input()))\n",
        "x=np.array(a)\n",
        "print(x)\n",
        "\n",
        "m=int(input(\"Enter Size of A\"))\n",
        "for i in range(0,m):\n",
        "  b.append(int(input()))\n",
        "y=np.array(b)\n",
        "print(y)\n",
        "print(\"intersection :\",np.intersect1d(x,y))\n",
        "print(\"union :\",np.union1d(x,y))\n"
      ]
    },
    {
      "cell_type": "code",
      "source": [],
      "metadata": {
        "id": "WzZOYrhUj1xF"
      },
      "execution_count": null,
      "outputs": []
    }
  ]
}