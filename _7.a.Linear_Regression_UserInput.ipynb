{
  "nbformat": 4,
  "nbformat_minor": 0,
  "metadata": {
    "colab": {
      "provenance": [],
      "collapsed_sections": [],
      "include_colab_link": true
    },
    "kernelspec": {
      "name": "python3",
      "display_name": "Python 3"
    },
    "language_info": {
      "name": "python"
    }
  },
  "cells": [
    {
      "cell_type": "markdown",
      "metadata": {
        "id": "view-in-github",
        "colab_type": "text"
      },
      "source": [
        "<a href=\"https://colab.research.google.com/github/HKRcodes/AML-331-Python-and-Machine-Learning-Lab/blob/main/_7.a.Linear_Regression_UserInput.ipynb\" target=\"_parent\"><img src=\"https://colab.research.google.com/assets/colab-badge.svg\" alt=\"Open In Colab\"/></a>"
      ]
    },
    {
      "cell_type": "code",
      "execution_count": 7,
      "metadata": {
        "id": "-zNDFuIxwfrc",
        "outputId": "6abcb006-1724-443b-9b9b-8fdd8b589d47",
        "colab": {
          "base_uri": "https://localhost:8080/",
          "height": 505
        }
      },
      "outputs": [
        {
          "output_type": "stream",
          "name": "stdout",
          "text": [
            "Enter the data limit4\n",
            "Enter X\n",
            "2\n",
            "3\n",
            "4\n",
            "5\n",
            "Enter Y\n",
            "4\n",
            "5\n",
            "6\n",
            "8\n",
            "Estimated coefficients:\n",
            "b_0 = 1.2000000000000002   b_1 = 1.3\n"
          ]
        },
        {
          "output_type": "display_data",
          "data": {
            "text/plain": [
              "<Figure size 432x288 with 1 Axes>"
            ],
            "image/png": "[encoded data removed]"
          },
          "metadata": {
            "needs_background": "light"
          }
        }
      ],
      "source": [
        "import numpy as np\n",
        "import matplotlib.pyplot as plt\n",
        "  \n",
        "def estimate_coef(x, y, n):\n",
        "  \n",
        "    # Declaring Sum of x and y\n",
        "    s_x = np.sum(x)\n",
        "    s_y = np.sum(y)\n",
        "\n",
        "    # calculating regression coefficients\n",
        "    b_1 = (n*np.sum(y*x) - s_y*s_x)/ (n*np.sum(x*x) - s_x*s_x)\n",
        "    b_0 = (s_y - b_1*s_x)/n\n",
        "  \n",
        "    return (b_0, b_1)\n",
        "  \n",
        "def plot_regression_line(x, y, b):\n",
        "    # plotting the actual points as scatter plot\n",
        "    plt.scatter(x, y, color = \"red\",\n",
        "               marker = \"X\")\n",
        "  \n",
        "    # predicted response vector\n",
        "    y_pred = b[0] + b[1]*x #b(b0,b1)\n",
        "\n",
        "    # plotting the regression line\n",
        "    plt.plot(x, y_pred, color = \"blue\")\n",
        "  \n",
        "    # putting labels\n",
        "    plt.xlabel('x')\n",
        "    plt.ylabel('y')\n",
        "  \n",
        "    # function to show plot\n",
        "    plt.show()\n",
        "\n",
        "n=int(input(\"Enter the data limit\"))\n",
        "list1= []\n",
        "list2= []\n",
        "print(\"Enter X\")\n",
        "for i in range(0, n):\n",
        "    ele = int(input())\n",
        "  \n",
        "    list1.append(ele) # adding the element\n",
        "\n",
        "print(\"Enter Y\")\n",
        "for j in range(0, n):\n",
        "    ele = int(input())\n",
        "  \n",
        "    list2.append(ele) # adding the element\n",
        "\n",
        "# observations / data\n",
        "x = np.array(list1)\n",
        "y = np.array(list2)\n",
        "  \n",
        "# estimating coefficients\n",
        "b = estimate_coef(x, y, n) #(b0,b1)\n",
        "print(\"Estimated coefficients:\\nb_0 = {}   b_1 = {}\".format(b[0], b[1]))\n",
        "  \n",
        "# plotting regression line\n",
        "plot_regression_line(x, y, b)\n",
        "  "
      ]
    }
  ]
}