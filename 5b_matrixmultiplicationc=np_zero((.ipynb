{
  "nbformat": 4,
  "nbformat_minor": 0,
  "metadata": {
    "colab": {
      "provenance": [],
      "authorship_tag": "ABX9TyMixEdMUa5w4qHakFqMWXdR",
      "include_colab_link": true
    },
    "kernelspec": {
      "name": "python3",
      "display_name": "Python 3"
    },
    "language_info": {
      "name": "python"
    }
  },
  "cells": [
    {
      "cell_type": "markdown",
      "metadata": {
        "id": "view-in-github",
        "colab_type": "text"
      },
      "source": [
        "<a href=\"https://colab.research.google.com/github/akhilamoh/AML-331-Python-and-Machine-Learning-Lab/blob/main/5b_matrixmultiplicationc%3Dnp_zero((.ipynb\" target=\"_parent\"><img src=\"https://colab.research.google.com/assets/colab-badge.svg\" alt=\"Open In Colab\"/></a>"
      ]
    },
    {
      "cell_type": "code",
      "execution_count": 2,
      "metadata": {
        "colab": {
          "base_uri": "https://localhost:8080/"
        },
        "id": "pmf0e1cbBfLk",
        "outputId": "260ca2af-f97b-4b98-98a2-503ee5dbd825"
      },
      "outputs": [
        {
          "output_type": "stream",
          "name": "stdout",
          "text": [
            "for matrix A\n",
            "enter the no of rows2\n",
            "enter the no of column2\n",
            "for matrix B\n",
            "enter the no of rows2\n",
            "enter the no of column2\n",
            "------multiplication possible------\n",
            "enter elements for matrix A\n",
            "1\n",
            "5\n",
            "3\n",
            "0\n",
            "[[1 5]\n",
            " [3 0]]\n",
            "enter elements for matrix B\n",
            "0\n",
            "4\n",
            "5\n",
            "2\n",
            "[[0 4]\n",
            " [5 2]]\n",
            "[[25. 14.]\n",
            " [ 0. 12.]]\n"
          ]
        }
      ],
      "source": [
        "import numpy as np\n",
        "a=list()\n",
        "b=list()\n",
        "c=list()\n",
        "print(\"for matrix A\")\n",
        "n=int(input(\"enter the no of rows\"))\n",
        "m=int(input(\"enter the no of column\"))\n",
        "print(\"for matrix B\")\n",
        "p=int(input(\"enter the no of rows\"))\n",
        "q=int(input(\"enter the no of column\"))\n",
        "if m==p:\n",
        "  print(\"------multiplication possible------\")\n",
        "  print(\"enter elements for matrix A\")\n",
        "  for i in range(n):\n",
        "    for j in range(m):\n",
        "      a.append(int(input()))\n",
        "  x=np.array(a)\n",
        "  y=x.reshape(n,m)\n",
        "  print (y)\n",
        "  print(\"enter elements for matrix B\")\n",
        "  for i in range(p):\n",
        "    for j in range(q):\n",
        "      b.append(int(input()))\n",
        "  u=np.array(b)\n",
        "  v=u.reshape(p,q)\n",
        "  print (v)\n",
        "  c=np.zeros((n,q))\n",
        "  for i in range(n):\n",
        "    for j in range(q):\n",
        "      for k in range(m):\n",
        "        c[i][j]+=y[i][k]*v[k][j]\n",
        "  print(c)\n",
        " \n",
        "else:\n",
        "  print(\"---not possible-----2\")"
      ]
    }
  ]
}