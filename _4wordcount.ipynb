{
  "nbformat": 4,
  "nbformat_minor": 0,
  "metadata": {
    "colab": {
      "provenance": [],
      "collapsed_sections": [],
      "include_colab_link": true
    },
    "kernelspec": {
      "name": "python3",
      "display_name": "Python 3"
    },
    "language_info": {
      "name": "python"
    }
  },
  "cells": [
    {
      "cell_type": "markdown",
      "metadata": {
        "id": "view-in-github",
        "colab_type": "text"
      },
      "source": [
        "<a href=\"https://colab.research.google.com/github/AkarshAnilkumar/AML-331-Python-and-Machine-Learning-Lab/blob/main/_4wordcount.ipynb\" target=\"_parent\"><img src=\"https://colab.research.google.com/assets/colab-badge.svg\" alt=\"Open In Colab\"/></a>"
      ]
    },
    {
      "cell_type": "code",
      "execution_count": 2,
      "metadata": {
        "colab": {
          "base_uri": "https://localhost:8080/"
        },
        "id": "QHv9IFsk_I3E",
        "outputId": "4a62b498-9342-41ff-ba70-f05d2a2f06b9"
      },
      "outputs": [
        {
          "output_type": "stream",
          "name": "stdout",
          "text": [
            "Enter sentnence:The eyes are blue and the tongue is red eyes are nose.\n",
            "{'The': 1, 'eyes': 2, 'are': 2, 'blue': 1, 'and': 1, 'the': 1, 'tongue': 1, 'is': 1, 'red': 1, 'nose.': 1}\n"
          ]
        }
      ],
      "source": [
        "sentence=input(\"Enter sentnence:\")\n",
        "a=[]\n",
        "c = dict()\n",
        "a=sentence.split(\" \")\n",
        "for t in a:\n",
        "\tif t in c:\n",
        "\t\tc[t] += 1\n",
        "\telse:\n",
        "\t\tc[t] = 1\n",
        "print(c)"
      ]
    },
    {
      "cell_type": "code",
      "source": [],
      "metadata": {
        "id": "0THyRwq6A4kl"
      },
      "execution_count": null,
      "outputs": []
    }
  ]
}