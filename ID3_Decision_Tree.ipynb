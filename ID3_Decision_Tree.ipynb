{
  "nbformat": 4,
  "nbformat_minor": 0,
  "metadata": {
    "colab": {
      "provenance": [],
      "include_colab_link": true
    },
    "kernelspec": {
      "name": "python3",
      "display_name": "Python 3"
    },
    "language_info": {
      "name": "python"
    }
  },
  "cells": [
    {
      "cell_type": "markdown",
      "metadata": {
        "id": "view-in-github",
        "colab_type": "text"
      },
      "source": [
        "<a href=\"https://colab.research.google.com/github/HKRcodes/AML-331-Python-and-Machine-Learning-Lab/blob/main/ID3_Decision_Tree.ipynb\" target=\"_parent\"><img src=\"https://colab.research.google.com/assets/colab-badge.svg\" alt=\"Open In Colab\"/></a>"
      ]
    },
    {
      "cell_type": "code",
      "execution_count": 4,
      "metadata": {
        "id": "TqBYUDiSpihZ",
        "outputId": "f282de88-3fc0-4b2e-fdc2-98847fab5478",
        "colab": {
          "base_uri": "https://localhost:8080/"
        }
      },
      "outputs": [
        {
          "output_type": "stream",
          "name": "stdout",
          "text": [
            "Accuracy:  0.9666666666666667\n",
            "Iris-virginica\n"
          ]
        }
      ],
      "source": [
        "import pandas as pd\n",
        "from sklearn.tree import DecisionTreeClassifier\n",
        "from sklearn.model_selection import train_test_split\n",
        "from sklearn import metrics\n",
        "from sklearn.datasets import load_iris\n",
        "\n",
        "# Load the Iris dataset\n",
        "data = load_iris()\n",
        "\n",
        "# Split the dataset into features and target variable\n",
        "X = data.data\n",
        "y = data.target\n",
        "\n",
        "# Split the data into training and testing sets\n",
        "X_train, X_test, y_train, y_test = train_test_split(X, y, test_size=0.2, random_state=1)\n",
        "\n",
        "# Create an instance of the DecisionTreeClassifier\n",
        "model = DecisionTreeClassifier(criterion='entropy', max_depth=3)\n",
        "\n",
        "# Train the model using the training sets\n",
        "model.fit(X_train, y_train)\n",
        "\n",
        "accuracy = model.score(X_test, y_test)\n",
        "print(\"Accuracy: \", accuracy)\n",
        "# Use the trained model to classify a new sample\n",
        "new_sample = [6.7, 3.3, 5.7, 2.5] # replace with actual values\n",
        "test = model.predict([new_sample])\n",
        "for i in test:\n",
        "    if i == 0:\n",
        "        print(\"Iris-setosa\")\n",
        "    elif i == 1:\n",
        "        print(\"Iris-versicolor\")\n",
        "    elif i == 2:\n",
        "        print(\"Iris-virginica\")"
      ]
    }
  ]
}