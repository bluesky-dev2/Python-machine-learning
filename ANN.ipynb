{
  "nbformat": 4,
  "nbformat_minor": 0,
  "metadata": {
    "colab": {
      "provenance": [],
      "include_colab_link": true
    },
    "kernelspec": {
      "name": "python3",
      "display_name": "Python 3"
    },
    "language_info": {
      "name": "python"
    }
  },
  "cells": [
    {
      "cell_type": "markdown",
      "metadata": {
        "id": "view-in-github",
        "colab_type": "text"
      },
      "source": [
        "<a href=\"https://colab.research.google.com/github/GOVINDFROMINDIA/AML-331-Python-and-Machine-Learning-Lab/blob/main/ANN.ipynb\" target=\"_parent\"><img src=\"https://colab.research.google.com/assets/colab-badge.svg\" alt=\"Open In Colab\"/></a>"
      ]
    },
    {
      "cell_type": "code",
      "execution_count": null,
      "metadata": {
        "colab": {
          "base_uri": "https://localhost:8080/",
          "height": 432
        },
        "id": "f45qrTbvwxnw",
        "outputId": "349bb185-36c5-435f-d22d-303a756754aa"
      },
      "outputs": [
        {
          "output_type": "error",
          "ename": "AttributeError",
          "evalue": "ignored",
          "traceback": [
            "\u001b[0;31m---------------------------------------------------------------------------\u001b[0m",
            "\u001b[0;31mKeyError\u001b[0m                                  Traceback (most recent call last)",
            "\u001b[0;32m/usr/local/lib/python3.8/dist-packages/sklearn/utils/__init__.py\u001b[0m in \u001b[0;36m__getattr__\u001b[0;34m(self, key)\u001b[0m\n\u001b[1;32m    116\u001b[0m         \u001b[0;32mtry\u001b[0m\u001b[0;34m:\u001b[0m\u001b[0;34m\u001b[0m\u001b[0;34m\u001b[0m\u001b[0m\n\u001b[0;32m--> 117\u001b[0;31m             \u001b[0;32mreturn\u001b[0m \u001b[0mself\u001b[0m\u001b[0;34m[\u001b[0m\u001b[0mkey\u001b[0m\u001b[0;34m]\u001b[0m\u001b[0;34m\u001b[0m\u001b[0;34m\u001b[0m\u001b[0m\n\u001b[0m\u001b[1;32m    118\u001b[0m         \u001b[0;32mexcept\u001b[0m \u001b[0mKeyError\u001b[0m\u001b[0;34m:\u001b[0m\u001b[0;34m\u001b[0m\u001b[0;34m\u001b[0m\u001b[0m\n",
            "\u001b[0;31mKeyError\u001b[0m: 'astype'",
            "\nDuring handling of the above exception, another exception occurred:\n",
            "\u001b[0;31mAttributeError\u001b[0m                            Traceback (most recent call last)",
            "\u001b[0;32m<ipython-input-2-1bd01c76beb4>\u001b[0m in \u001b[0;36m<module>\u001b[0;34m\u001b[0m\n\u001b[1;32m     51\u001b[0m   \u001b[0mW2\u001b[0m\u001b[0;34m=\u001b[0m\u001b[0mW2\u001b[0m\u001b[0;34m-\u001b[0m\u001b[0mlearning_rate\u001b[0m\u001b[0;34m*\u001b[0m\u001b[0mW2_update\u001b[0m\u001b[0;34m\u001b[0m\u001b[0;34m\u001b[0m\u001b[0m\n\u001b[1;32m     52\u001b[0m   \u001b[0mW2\u001b[0m\u001b[0;34m=\u001b[0m\u001b[0mW2\u001b[0m\u001b[0;34m-\u001b[0m\u001b[0mlearning_rate\u001b[0m\u001b[0;34m*\u001b[0m\u001b[0mW2_update\u001b[0m\u001b[0;34m\u001b[0m\u001b[0;34m\u001b[0m\u001b[0m\n\u001b[0;32m---> 53\u001b[0;31m   \u001b[0mdata\u001b[0m\u001b[0;34m=\u001b[0m\u001b[0mdata\u001b[0m\u001b[0;34m.\u001b[0m\u001b[0mastype\u001b[0m\u001b[0;34m(\u001b[0m\u001b[0mfloat\u001b[0m\u001b[0;34m)\u001b[0m\u001b[0;34m\u001b[0m\u001b[0;34m\u001b[0m\u001b[0m\n\u001b[0m\u001b[1;32m     54\u001b[0m   \u001b[0mresults\u001b[0m\u001b[0;34m.\u001b[0m\u001b[0mmse\u001b[0m\u001b[0;34m.\u001b[0m\u001b[0mplot\u001b[0m\u001b[0;34m(\u001b[0m\u001b[0mtitle\u001b[0m\u001b[0;34m=\u001b[0m\u001b[0;34m\"M S E\"\u001b[0m\u001b[0;34m)\u001b[0m\u001b[0;34m\u001b[0m\u001b[0;34m\u001b[0m\u001b[0m\n\u001b[1;32m     55\u001b[0m   \u001b[0mresults\u001b[0m\u001b[0;34m.\u001b[0m\u001b[0maccuracy\u001b[0m\u001b[0;34m.\u001b[0m\u001b[0mplot\u001b[0m\u001b[0;34m(\u001b[0m\u001b[0mtitle\u001b[0m\u001b[0;34m=\u001b[0m\u001b[0;34m\"Accuracy\"\u001b[0m\u001b[0;34m)\u001b[0m\u001b[0;34m\u001b[0m\u001b[0;34m\u001b[0m\u001b[0m\n",
            "\u001b[0;32m/usr/local/lib/python3.8/dist-packages/sklearn/utils/__init__.py\u001b[0m in \u001b[0;36m__getattr__\u001b[0;34m(self, key)\u001b[0m\n\u001b[1;32m    117\u001b[0m             \u001b[0;32mreturn\u001b[0m \u001b[0mself\u001b[0m\u001b[0;34m[\u001b[0m\u001b[0mkey\u001b[0m\u001b[0;34m]\u001b[0m\u001b[0;34m\u001b[0m\u001b[0;34m\u001b[0m\u001b[0m\n\u001b[1;32m    118\u001b[0m         \u001b[0;32mexcept\u001b[0m \u001b[0mKeyError\u001b[0m\u001b[0;34m:\u001b[0m\u001b[0;34m\u001b[0m\u001b[0;34m\u001b[0m\u001b[0m\n\u001b[0;32m--> 119\u001b[0;31m             \u001b[0;32mraise\u001b[0m \u001b[0mAttributeError\u001b[0m\u001b[0;34m(\u001b[0m\u001b[0mkey\u001b[0m\u001b[0;34m)\u001b[0m\u001b[0;34m\u001b[0m\u001b[0;34m\u001b[0m\u001b[0m\n\u001b[0m\u001b[1;32m    120\u001b[0m \u001b[0;34m\u001b[0m\u001b[0m\n\u001b[1;32m    121\u001b[0m     \u001b[0;32mdef\u001b[0m \u001b[0m__setstate__\u001b[0m\u001b[0;34m(\u001b[0m\u001b[0mself\u001b[0m\u001b[0;34m,\u001b[0m \u001b[0mstate\u001b[0m\u001b[0;34m)\u001b[0m\u001b[0;34m:\u001b[0m\u001b[0;34m\u001b[0m\u001b[0;34m\u001b[0m\u001b[0m\n",
            "\u001b[0;31mAttributeError\u001b[0m: astype"
          ]
        }
      ],
      "source": [
        "import warnings\n",
        "import numpy as np\n",
        "import pandas as pd\n",
        "from sklearn.datasets import load_iris\n",
        "from sklearn.model_selection import train_test_split\n",
        "import matplotlib.pyplot as plt\n",
        "\n",
        "def sigmoid(x):\n",
        "  return 1/(1+np.exp(-x))\n",
        "def mean_squared_error(Y_pred,Y_true):\n",
        "  return ((Y_pred-Y_true)**2).sum()/(2*Y_pred.size)\n",
        "def accuracy(Y_pred,Y_true):\n",
        "  acc=Y_pred.argmax(axis=1)==Y_true.argmax(axis=1)\n",
        "  return acc.mean\n",
        "data=load_iris()\n",
        "X=data.data\n",
        "Y=data.target\n",
        "Y=pd.get_dummies(Y).values\n",
        "X_train, X_test, Y_train, Y_test =train_test_split(X,Y,test_size=20,random_state=4)\n",
        "learning_rate= 0.1 #step size at each iteration while moving toward a minimum of a loss function.\n",
        "iterations= 5000\n",
        "N= Y_train.size\n",
        "input=4\n",
        "hidden=2\n",
        "output=3\n",
        "results= pd.DataFrame(columns=[\"mse\",\"accuracy\"])\n",
        "np.random.seed(10)\n",
        "W1=np.random.normal(scale=0.5, size=(input, hidden))\n",
        "W2=np.random.normal(scale=0.5, size=(hidden, output))\n",
        "\n",
        "for itr in range(iterations):\n",
        "  Z1=np.dot(X_train,W1)\n",
        "  A1=sigmoid(Z1)\n",
        "\n",
        "  Z2=np.dot(A1,W2)\n",
        "  A2=sigmoid(Z2)\n",
        "\n",
        "  mse=mean_squared_error(A2,Y_train)\n",
        "  acc=accuracy(A2,Y_train)\n",
        "  results=results.append({\"mse\":mse, \"accuracy\":acc},ignore_index=True)\n",
        "\n",
        "  E1=A2-Y_train\n",
        "  dW1=E1*A2*(1-A2)\n",
        "\n",
        "  E2=np.dot(dW1,W2.T)\n",
        "  dW2=E2*A1*(1-A1)\n",
        "\n",
        "  W2_update=np.dot(A1.T,dW1)/N\n",
        "  W1_update=np.dot(X_train.T,dW2)/N\n",
        "\n",
        "  W2=W2-learning_rate*W2_update\n",
        "  W2=W2-learning_rate*W2_update\n",
        "  data=data.astype(float)\n",
        "  results.mse.plot(title=\"M S E\")\n",
        "  results.accuracy.plot(title=\"Accuracy\")\n",
        "\n",
        "  Z1=np.dot(X_test,W1)\n",
        "  A1=sigmoid(Z1)\n",
        "\n",
        "  Z2=np.dot(A1,W2)\n",
        "  A2=sigmoid(Z2)\n",
        "  \n",
        "  acc=accuracy(A2,Y_test)\n",
        "  print(\"Accuracy:{}\".format(acc))"
      ]
    }
  ]
}