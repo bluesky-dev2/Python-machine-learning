{
  "nbformat": 4,
  "nbformat_minor": 0,
  "metadata": {
    "colab": {
      "provenance": [],
      "authorship_tag": "ABX9TyN7qq1PxgKD9HAkmxsqbeyY",
      "include_colab_link": true
    },
    "kernelspec": {
      "name": "python3",
      "display_name": "Python 3"
    },
    "language_info": {
      "name": "python"
    }
  },
  "cells": [
    {
      "cell_type": "markdown",
      "metadata": {
        "id": "view-in-github",
        "colab_type": "text"
      },
      "source": [
        "<a href=\"https://colab.research.google.com/github/akhilamoh/AML-331-Python-and-Machine-Learning-Lab/blob/main/exp2b_union%26intersection.ipynb\" target=\"_parent\"><img src=\"https://colab.research.google.com/assets/colab-badge.svg\" alt=\"Open In Colab\"/></a>"
      ]
    },
    {
      "cell_type": "code",
      "execution_count": 2,
      "metadata": {
        "colab": {
          "base_uri": "https://localhost:8080/"
        },
        "id": "xYLwDWt9GsxG",
        "outputId": "2c917e3c-7f1c-49ba-dcc3-62cf3597b45f"
      },
      "outputs": [
        {
          "output_type": "stream",
          "name": "stdout",
          "text": [
            "Enter Size of A5\n",
            "1\n",
            "2\n",
            "3\n",
            "4\n",
            "0\n",
            "[1 2 3 4 0]\n",
            "Enter Size of B4\n",
            "8\n",
            "6\n",
            "1\n",
            "0\n",
            "[8 6 1 0]\n",
            "[1, 0]\n",
            "[8, 6, 1, 0]\n"
          ]
        }
      ],
      "source": [
        "import numpy as np\n",
        "def intersect(x,y) :\n",
        "  inter=list()\n",
        "  for x in x :\n",
        "    if x in y :\n",
        "      inter.append(x)\n",
        "  return inter\n",
        "def union(x,y) :\n",
        "  l=list()\n",
        "  for x in y :\n",
        "    if x not in l :\n",
        "      l.append(x)\n",
        "  return l\n",
        "a=list()\n",
        "b=list()\n",
        "n=int(input(\"Enter Size of A\"))\n",
        "for i in range(0,n):\n",
        "  a.append(int(input()))\n",
        "x=np.array(a)\n",
        "print(x)\n",
        "m=int(input(\"Enter Size of B\"))\n",
        "for i in range(0,m):\n",
        "  b.append(int(input()))\n",
        "y=np.array(b)\n",
        "print(y)\n",
        "print(intersect(x,y))\n",
        "print(union(x,y))"
      ]
    }
  ]
}