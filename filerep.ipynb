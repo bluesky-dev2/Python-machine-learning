{
  "nbformat": 4,
  "nbformat_minor": 0,
  "metadata": {
    "colab": {
      "provenance": [],
      "collapsed_sections": [],
      "mount_file_id": "1CQ-M3DMWJOkNn6iWShYVShTPrrwk4p-g",
      "authorship_tag": "ABX9TyPT/p/Qxf/gIr4qfyGDeAvt",
      "include_colab_link": true
    },
    "kernelspec": {
      "name": "python3",
      "display_name": "Python 3"
    },
    "language_info": {
      "name": "python"
    }
  },
  "cells": [
    {
      "cell_type": "markdown",
      "metadata": {
        "id": "view-in-github",
        "colab_type": "text"
      },
      "source": [
        "<a href=\"https://colab.research.google.com/github/rxhith/AML-331-Python-and-Machine-Learning-Lab/blob/main/filerep.ipynb\" target=\"_parent\"><img src=\"https://colab.research.google.com/assets/colab-badge.svg\" alt=\"Open In Colab\"/></a>"
      ]
    },
    {
      "cell_type": "code",
      "execution_count": 20,
      "metadata": {
        "colab": {
          "base_uri": "https://localhost:8080/"
        },
        "id": "GE-dNFW2hSUT",
        "outputId": "8a1dd5cf-0de7-4bc5-d757-17549e45053b"
      },
      "outputs": [
        {
          "output_type": "stream",
          "name": "stdout",
          "text": [
            "The Most Frequent word is lime\n",
            "enter the word for replacement  mint\n",
            "['kurach', 'mint', 'tea', 'edkan', 'ondo', 'chetta', 'mint', 'is', 'my', 'favorite']\n",
            "kurach mint tea edkan ondo chetta mint is my favorite\n"
          ]
        }
      ],
      "source": [
        "\n",
        "\n",
        "words_dict={}\n",
        "f=open(\"/content/drive/MyDrive/354_Rohith Syam/Limee.txt\",\"r\")\n",
        "list1=[]\n",
        "for line in f:\n",
        "  for word in line.split(): \n",
        "    list1.append(word)\n",
        "for word in list1:\n",
        "  if word in words_dict:\n",
        "    words_dict[word]+=1 \n",
        "  else:\n",
        "    words_dict[word]=1\n",
        "count=0\n",
        "word=None\n",
        "for s in words_dict:\n",
        "  if words_dict[s]>count:\n",
        "    word=s\n",
        "    count=words_dict[word]\n",
        "f.close()\n",
        "f=open(\"/content/drive/MyDrive/354_Rohith Syam/Limee.txt\",\"w\")\n",
        "print(\"The Most Frequent word is\", word)\n",
        "rep=input(\"enter the word for replacement  \")\n",
        "list2=[]\n",
        "text=\" \"\n",
        "for s in list1:\n",
        "  if s != word:\n",
        "    list2.append(s)\n",
        "  else:\n",
        "    list2.append(rep)\n",
        "print(list2)\n",
        "text=text.join(list2)\n",
        "print(text)\n",
        "f.write(text)\n",
        "f.close()\n"
      ]
    },
    {
      "cell_type": "markdown",
      "source": [
        "# New section"
      ],
      "metadata": {
        "id": "MHH8xDRTjweU"
      }
    },
    {
      "cell_type": "markdown",
      "source": [
        "\n",
        "\n",
        "---\n",
        "\n"
      ],
      "metadata": {
        "id": "yXrZjREXkcfh"
      }
    },
    {
      "cell_type": "code",
      "source": [
        "from google.colab import drive\n",
        "drive.mount('/content/drive')\n"
      ],
      "metadata": {
        "colab": {
          "base_uri": "https://localhost:8080/"
        },
        "id": "wICNimxgky03",
        "outputId": "acb638a6-acfb-40ea-957d-9bd227e603b8"
      },
      "execution_count": null,
      "outputs": [
        {
          "output_type": "stream",
          "name": "stdout",
          "text": [
            "Drive already mounted at /content/drive; to attempt to forcibly remount, call drive.mount(\"/content/drive\", force_remount=True).\n"
          ]
        }
      ]
    }
  ]
}