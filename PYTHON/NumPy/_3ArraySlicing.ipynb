{
  "nbformat": 4,
  "nbformat_minor": 0,
  "metadata": {
    "colab": {
      "provenance": [],
      "authorship_tag": "ABX9TyNcHG+BAHrjhR1o8PuPOyiy",
      "include_colab_link": true
    },
    "kernelspec": {
      "name": "python3",
      "display_name": "Python 3"
    },
    "language_info": {
      "name": "python"
    }
  },
  "cells": [
    {
      "cell_type": "markdown",
      "metadata": {
        "id": "view-in-github",
        "colab_type": "text"
      },
      "source": [
        "<a href=\"https://colab.research.google.com/github/AkarshAnilkumar/AML-331-Python-and-Machine-Learning-Lab/blob/main/PYTHON/NumPy/_3ArraySlicing.ipynb\" target=\"_parent\"><img src=\"https://colab.research.google.com/assets/colab-badge.svg\" alt=\"Open In Colab\"/></a>"
      ]
    },
    {
      "cell_type": "code",
      "execution_count": null,
      "metadata": {
        "id": "Jlvht15d04AC"
      },
      "outputs": [],
      "source": [
        "# Tutorial on Slicing an array"
      ]
    },
    {
      "cell_type": "code",
      "source": [
        "#Slicing in python means taking elements from one given index to another given index excluding the latter index.\n",
        "import numpy as np\n",
        "arr = np.array([1, 2, 3, 4, 5, 6, 7])\n",
        "#Taking only elements \n",
        "print(arr[1:6])"
      ],
      "metadata": {
        "colab": {
          "base_uri": "https://localhost:8080/"
        },
        "id": "-ZLrdxZ723gh",
        "outputId": "e5f9c920-d258-471b-b9fb-c4d48a597ac1"
      },
      "execution_count": null,
      "outputs": [
        {
          "output_type": "stream",
          "name": "stdout",
          "text": [
            "[2 3 4 5 6]\n"
          ]
        }
      ]
    },
    {
      "cell_type": "code",
      "source": [
        "#Slice elements from index 4 to the end of the array including mentioned element.\n",
        "print(arr[4:])"
      ],
      "metadata": {
        "colab": {
          "base_uri": "https://localhost:8080/"
        },
        "id": "ljbZhYpg6dKB",
        "outputId": "26fadb3f-e32c-42e5-8337-637211f5b258"
      },
      "execution_count": null,
      "outputs": [
        {
          "output_type": "stream",
          "name": "stdout",
          "text": [
            "[5 6 7]\n"
          ]
        }
      ]
    },
    {
      "cell_type": "code",
      "source": [
        "#Slice elements from the beginning to index 4 (not included)\n",
        "print(arr[:4])"
      ],
      "metadata": {
        "colab": {
          "base_uri": "https://localhost:8080/"
        },
        "id": "e18pq0OE6_mu",
        "outputId": "dbd0d5e8-df38-4cd7-8a8d-9c8b19ad375b"
      },
      "execution_count": null,
      "outputs": [
        {
          "output_type": "stream",
          "name": "stdout",
          "text": [
            "[1 2 3 4]\n"
          ]
        }
      ]
    },
    {
      "cell_type": "code",
      "source": [
        "#Use the minus operator to refer to an index from the end\n",
        "import numpy as np\n",
        "#Elements from 3rd last and last element excluding the last element...\n",
        "print(arr[-3:-1])"
      ],
      "metadata": {
        "id": "T_tUhwRG77C3"
      },
      "execution_count": null,
      "outputs": []
    }
  ]
}