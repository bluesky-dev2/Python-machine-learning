{
  "nbformat": 4,
  "nbformat_minor": 0,
  "metadata": {
    "colab": {
      "provenance": [],
      "authorship_tag": "ABX9TyPFZ0D8IMO2g1OIsreL3zk+",
      "include_colab_link": true
    },
    "kernelspec": {
      "name": "python3",
      "display_name": "Python 3"
    },
    "language_info": {
      "name": "python"
    }
  },
  "cells": [
    {
      "cell_type": "markdown",
      "metadata": {
        "id": "view-in-github",
        "colab_type": "text"
      },
      "source": [
        "<a href=\"https://colab.research.google.com/github/HKRcodes/AML-331-Python-and-Machine-Learning-Lab/blob/main/_6Exp/file_word_count.ipynb\" target=\"_parent\"><img src=\"https://colab.research.google.com/assets/colab-badge.svg\" alt=\"Open In Colab\"/></a>"
      ]
    },
    {
      "cell_type": "code",
      "execution_count": 3,
      "metadata": {
        "colab": {
          "base_uri": "https://localhost:8080/"
        },
        "id": "Pl5DsYeV2ar7",
        "outputId": "01c51267-ee4a-4762-897d-8243d61d8202"
      },
      "outputs": [
        {
          "output_type": "stream",
          "name": "stdout",
          "text": [
            "WORD COUNT DICTIONARY {'This': 1, 'is': 1, 'to': 3, 'inform': 1, 'that': 1, \"tomorrow's\": 1, 'class': 1, 'has': 2, 'been': 2, 'suspended': 1, 'due': 2, 'heavy': 1, 'rainfall': 1, 'in': 1, 'Trivandrum': 1, 'district.': 1, 'All': 1, 'the': 3, 'exam': 1, 'including': 1, 'exams': 1, 'of': 1, 'professional': 1, 'colleges': 1, 'cancelled': 1, 'same.': 1}\n",
            "3 time to has repeated\n"
          ]
        }
      ],
      "source": [
        "file=open(\"/content/filepython2.txt\")\n",
        "c=dict()\n",
        "for lines in file:\n",
        "  for i in lines.split():\n",
        "    if i in c:\n",
        "      c[i]+=1\n",
        "    else:\n",
        "      c[i]=1\n",
        "print(\"WORD COUNT DICTIONARY\",c)\n",
        "most=0\n",
        "for j in c:\n",
        "  if(most < c[j]):\n",
        "    most=c[j]\n",
        "    index=j\n",
        "print(most,\"time\",index,\"has repeated\")"
      ]
    }
  ]
}