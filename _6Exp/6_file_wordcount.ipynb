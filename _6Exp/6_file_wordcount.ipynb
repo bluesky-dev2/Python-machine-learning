{
  "nbformat": 4,
  "nbformat_minor": 0,
  "metadata": {
    "colab": {
      "provenance": [],
      "collapsed_sections": [],
      "include_colab_link": true
    },
    "kernelspec": {
      "name": "python3",
      "display_name": "Python 3"
    },
    "language_info": {
      "name": "python"
    }
  },
  "cells": [
    {
      "cell_type": "markdown",
      "metadata": {
        "id": "view-in-github",
        "colab_type": "text"
      },
      "source": [
        "<a href=\"https://colab.research.google.com/github/AkarshAnilkumar/AML-331-Python-and-Machine-Learning-Lab/blob/main/_6Exp/6_file_wordcount.ipynb\" target=\"_parent\"><img src=\"https://colab.research.google.com/assets/colab-badge.svg\" alt=\"Open In Colab\"/></a>"
      ]
    },
    {
      "cell_type": "code",
      "execution_count": 5,
      "metadata": {
        "id": "QHv9IFsk_I3E",
        "colab": {
          "base_uri": "https://localhost:8080/"
        },
        "outputId": "b968fea9-7e83-4185-d3ab-fd6623be61d8"
      },
      "outputs": [
        {
          "output_type": "stream",
          "name": "stdout",
          "text": [
            "{ to } is the most repeated word in a text file\n"
          ]
        }
      ],
      "source": [
        "# importing Counter function\n",
        "from collections import Counter\n",
        "\n",
        "# input text file\n",
        "inputFile = \"/content/filepython2.txt\"\n",
        "\n",
        "# Storing all the words\n",
        "newWordsList = []\n",
        "\n",
        "# Opening the given file in read-only mode\n",
        "with open(inputFile, 'r') as filedata:\n",
        "\n",
        "   # Traverse in each line of the file\n",
        "   for textline in filedata:\n",
        "\n",
        "      # Splitting the text file content into list of words\n",
        "      wordsList = textline.split()\n",
        "\n",
        "      # Traverse in the above list of words\n",
        "      for word in wordsList:\n",
        "\n",
        "         # Appending each word to the new list\n",
        "         newWordsList.append(word)\n",
        "\n",
        "# Using the Counter() function, calculate the frequency of all the words\n",
        "wordsFrequency = Counter(newWordsList)\n",
        "\n",
        "# Taking a variable to store the maximum frequency value\n",
        "maxFrequency = 0\n",
        "\n",
        "# Loop in the above words frequency dictionary\n",
        "for textword in wordsFrequency:\n",
        "\n",
        "   # Checking whether the frequency of the word is greater than the maximum frequency\n",
        "   if(wordsFrequency[textword] > maxFrequency):\n",
        " \n",
        "      # If it is true then set maximum frequency to the corresponding frequency value of the word\n",
        "      maxFrequency = wordsFrequency[textword]\n",
        "\n",
        "      # As this is the word with maximum frequency store this word in a variable\n",
        "      mostRepeatedWord = textword\n",
        "\n",
        "# Printing the most repeated word in a text file\n",
        "print(\"{\",mostRepeatedWord,\"} is the most repeated word in a text file\")\n",
        "\n",
        "# Closing the input file\n",
        "filedata.close()"
      ]
    }
  ]
}